{
 "cells": [
  {
   "cell_type": "code",
   "execution_count": 5,
   "metadata": {},
   "outputs": [],
   "source": [
    "from math import sqrt\n",
    "class Anel:\n",
    "    def __init__(self,data):\n",
    "        self.data=self.read(data)\n",
    "        self.best=[]\n",
    "        self.ofv=None\n",
    "        self.Tmax=1000000\n",
    "        self.Tmin=1\n",
    "    def read(self,file):\n",
    "        f=open(file,\"r\")\n",
    "        content = f.read()\n",
    "        print(1)\n",
    "        graph = re.findall(r\"^(\\s*\\d*) (\\s*\\d*) (\\s*\\d*)$\", content, re.MULTILINE)\n",
    "        graph = {int(a):(int(b),int(c)) for a,b,c in graph}\n",
    "        matrix = defaultdict(dict)\n",
    "        data=graph\n",
    "        vertex = list(data.keys())\n",
    "        for i, ver1 in enumerate(vertex):\n",
    "            for ver2 in vertex[i + 1:]:\n",
    "                distance = np.linalg.norm(np.asarray(data[ver1]) - np.asarray(data[ver2]))\n",
    "                matrix[ver1][ver2] = distance\n",
    "                matrix[ver2][ver1] = distance \n",
    "        self.data=matrix        \n",
    "        return matrix\n",
    "    def f(self,sol):\n",
    "        dist=0\n",
    "        for i in range(len(sol)-1):\n",
    "            dist= dist + self.data[sol[i]][sol[i+1]]\n",
    "        return dist\n",
    "    def swap(self,arr):\n",
    "        for i in range(100):\n",
    "            i=random.randint(0,len(arr)-1)\n",
    "            j=i\n",
    "            while (i==j):\n",
    "                j=random.randint(0,len(arr)-1) \n",
    "            temp=arr[i]\n",
    "            arr[i]=arr[j]\n",
    "            arr[j]=temp\n",
    "        return arr\n",
    "    def opt2(self,arr):\n",
    "        i=random.randint(0,len(arr)-2)\n",
    "        j=random.randint(i+1,len(arr)-1)\n",
    "        b=list(arr)\n",
    "        a=arr[i:j+1]                            \n",
    "        a.reverse()\n",
    "        p=0\n",
    "        for k in range(i,j+1):\n",
    "                b[k]=a[p]\n",
    "                p=p+1 \n",
    "        return b       \n",
    "    def alg(self):\n",
    "        self.best=[i+1 for i in range(len(self.data))]\n",
    "        random.shuffle(self.best)\n",
    "        self.ofv=self.f(self.best)\n",
    "        T=self.Tmax\n",
    "        while (T>self.Tmin):\n",
    "            n=0\n",
    "            while(n<20):\n",
    "                newsol=self.swap(self.best)\n",
    "                ofvNew=self.f(newsol)\n",
    "                if (ofvNew<self.ofv):\n",
    "                    self.best=newsol\n",
    "                    self.ofv=ofvNew\n",
    "                else:\n",
    "                    if (random.random()<math.exp((self.ofv-ofvNew)/T)):\n",
    "                        self.best=newsol\n",
    "                        self.ofv=ofvNew\n",
    "                n=n+1        \n",
    "            T=T*0.999\n",
    "            \n",
    "    def alg1(self):\n",
    "            self.best=[i+1 for i in range(len(self.data))]\n",
    "            random.shuffle(self.best)\n",
    "            self.ofv=self.f(self.best)\n",
    "            T=self.Tmax\n",
    "            while (T>self.Tmin):\n",
    "                n=0\n",
    "                while(n<20):\n",
    "                    newsol=self.opt2(self.best)\n",
    "                    ofvNew=self.f(newsol)\n",
    "                    if (ofvNew<self.ofv):\n",
    "                        self.best=newsol\n",
    "                        self.ofv=ofvNew\n",
    "                    else:\n",
    "                        if (random.random()<math.exp((self.ofv-ofvNew)/T)):\n",
    "                            #print(random.random(),math.exp((self.ofv-ofvNew)/T),(self.ofv-ofvNew)/T)\n",
    "                            self.best=newsol\n",
    "                            self.ofv=ofvNew\n",
    "                    n=n+1            \n",
    "                T=T*0.999\n",
    "        \n",
    "import math        \n",
    "import random    \n",
    "import re\n",
    "import numpy as np\n",
    "from collections import defaultdict  \n",
    "def f1(sol):\n",
    "    dist=0\n",
    "    for i in range(len(sol)-1):\n",
    "        dist= dist + c.data[sol[i]][sol[i+1]]\n",
    "    return dist\n",
    "from datetime import datetime"
   ]
  },
  {
   "cell_type": "code",
   "execution_count": 6,
   "metadata": {},
   "outputs": [
    {
     "name": "stdout",
     "output_type": "stream",
     "text": [
      "1\n",
      "swap:  164007.2169357943  время:  0:02:31.342656\n",
      "2opt:  21284.95151615485  время:  0:00:14.584834\n",
      "best:  20997.356389093537\n"
     ]
    }
   ],
   "source": [
    "c=Anel(\"data\2.txt\")\n",
    "for i in range(1):\n",
    "    start_time = datetime.now()\n",
    "    c.alg()\n",
    "    print(\"swap: \",c.f(c.best),\" время: \", datetime.now() - start_time) \n",
    "    start_time = datetime.now()\n",
    "    c.alg1()\n",
    "    print(\"2opt: \",c.f(c.best),\" время: \" ,datetime.now() - start_time) \n",
    "a=[]\n",
    "f=open(\"data\2.1.txt\",\"r\")\n",
    "for i in f:\n",
    "    a.append(int(i)) \n",
    "print(\"best: \",f1(a[:-1]))     "
   ]
  },
  {
   "cell_type": "code",
   "execution_count": 7,
   "metadata": {},
   "outputs": [
    {
     "name": "stdout",
     "output_type": "stream",
     "text": [
      "1\n",
      "swap:  34127.28029248087  время:  0:03:07.567729\n",
      "2opt:  3745.069414199279  время:  0:00:34.185955\n",
      "best:  2568.8811037431624\n"
     ]
    }
   ],
   "source": [
    "c=Anel(\"data\1.txt\")\n",
    "for i in range(1):\n",
    "    start_time = datetime.now()\n",
    "    c.alg()\n",
    "    print(\"swap: \",c.f(c.best),\" время: \" ,datetime.now() - start_time) \n",
    "    start_time = datetime.now()\n",
    "    c.alg1()\n",
    "    print(\"2opt: \",c.f(c.best),\" время: \" ,datetime.now() - start_time) \n",
    "a=[]\n",
    "f=open(\"data\1.1.txt\",\"r\")\n",
    "for i in f:\n",
    "    a.append(int(i)) \n",
    "print(\"best: \",f1(a[:-1]))    "
   ]
  },
  {
   "cell_type": "code",
   "execution_count": 8,
   "metadata": {},
   "outputs": [
    {
     "name": "stdout",
     "output_type": "stream",
     "text": [
      "1\n",
      "swap:  3154.1113917362377  время:  0:02:25.244308\n",
      "2opt:  701.125425995085  время:  0:00:13.923796\n",
      "best:  635.9849804702654\n"
     ]
    }
   ],
   "source": [
    "c=Anel(\"data\3.txt\")\n",
    "for i in range(1):\n",
    "    start_time = datetime.now()\n",
    "    c.alg()\n",
    "    print(\"swap: \",c.f(c.best),\" время: \" ,datetime.now() - start_time) \n",
    "    start_time = datetime.now()\n",
    "    c.alg1()\n",
    "    print(\"2opt: \",c.f(c.best),\" время: \" ,datetime.now() - start_time) \n",
    "a=[]\n",
    "f=open(\"data\3.1.txt\",\"r\")\n",
    "for i in f:\n",
    "    a.append(int(i)) \n",
    "print(\"best: \",f1(a[:-1])) "
   ]
  },
  {
   "cell_type": "code",
   "execution_count": 9,
   "metadata": {},
   "outputs": [
    {
     "name": "stdout",
     "output_type": "stream",
     "text": [
      "1\n",
      "swap:  1524.0372494401279  время:  0:02:20.984064\n",
      "2opt:  426.6966807661092  время:  0:00:08.091463\n",
      "best:  423.90054945308583\n"
     ]
    }
   ],
   "source": [
    "c=Anel(\"data\4.txt\")\n",
    "for i in range(1):\n",
    "    start_time = datetime.now()\n",
    "    c.alg()\n",
    "    print(\"swap: \",c.f(c.best),\" время: \", datetime.now() - start_time) \n",
    "    start_time = datetime.now()\n",
    "    c.alg1()\n",
    "    print(\"2opt: \",c.f(c.best),\" время: \" ,datetime.now() - start_time) \n",
    "a=[]\n",
    "f=open(\"data\4.1.txt\",\"r\")\n",
    "for i in f:\n",
    "    a.append(int(i)) \n",
    "print(\"best: \",f1(a[:-1])) "
   ]
  },
  {
   "cell_type": "code",
   "execution_count": 10,
   "metadata": {},
   "outputs": [
    {
     "name": "stdout",
     "output_type": "stream",
     "text": [
      "1\n",
      "swap:  2490.816710422802  время:  0:02:29.662560\n",
      "2opt:  562.1065947241908  время:  0:00:10.949626\n",
      "best:  540.00238766161\n"
     ]
    }
   ],
   "source": [
    "c=Anel(\"data\5.txt\")\n",
    "for i in range(1):\n",
    "    start_time = datetime.now()\n",
    "    c.alg()\n",
    "    print(\"swap: \",c.f(c.best),\" время: \", datetime.now() - start_time) \n",
    "    start_time = datetime.now()\n",
    "    c.alg1()\n",
    "    print(\"2opt: \",c.f(c.best),\" время: \" ,datetime.now() - start_time) \n",
    "a=[]\n",
    "f=open(\"data\5.1.txt\",\"r\")\n",
    "for i in f:\n",
    "    a.append(int(i)) \n",
    "print(\"best: \",f1(a[:-1])) "
   ]
  },
  {
   "cell_type": "code",
   "execution_count": null,
   "metadata": {},
   "outputs": [],
   "source": []
  }
 ],
 "metadata": {
  "kernelspec": {
   "display_name": "Python 3",
   "language": "python",
   "name": "python3"
  },
  "language_info": {
   "codemirror_mode": {
    "name": "ipython",
    "version": 3
   },
   "file_extension": ".py",
   "mimetype": "text/x-python",
   "name": "python",
   "nbconvert_exporter": "python",
   "pygments_lexer": "ipython3",
   "version": "3.6.8"
  }
 },
 "nbformat": 4,
 "nbformat_minor": 2
}
